{
 "cells": [
  {
   "cell_type": "code",
   "execution_count": 1,
   "metadata": {},
   "outputs": [
    {
     "name": "stdout",
     "output_type": "stream",
     "text": [
      "122\n",
      "2\n"
     ]
    }
   ],
   "source": [
    "import requests\n",
    "import urllib.request\n",
    "import json\n",
    "from operator import eq \n",
    "\n",
    "\n",
    "def bike_station():\n",
    "    # 문자열로 넣어줘야함.\n",
    "    stationName= '122'\n",
    "    print(stationName)\n",
    "    \n",
    "    URL = 'http://openapi.seoul.go.kr:8088/415176436a6d686d383564506e584f/json/bikeList/1/1000/' \n",
    "    response = requests.get(URL)\n",
    "    # response.status_code \n",
    "    # response.text\n",
    "    data = urllib.request.urlopen(URL).read().decode('utf8')\n",
    "    data_json = json.loads(data)\n",
    "    # print(data_json)\n",
    "    parsed_json = data_json['rentBikeStatus']['row']\n",
    "    \n",
    "    \n",
    "    # print(parsed_json)\n",
    "    for one_parsed in parsed_json:\n",
    "        stopName=one_parsed['stationName']\n",
    "        num = stopName.split(\".\")\n",
    "        if str(num[0]) == stationName:              \n",
    "            print(one_parsed['parkingBikeTotCnt'])\n",
    "        \n",
    "bike_station()"
   ]
  },
  {
   "cell_type": "code",
   "execution_count": null,
   "metadata": {},
   "outputs": [],
   "source": []
  }
 ],
 "metadata": {
  "kernelspec": {
   "display_name": "Python 3",
   "language": "python",
   "name": "python3"
  },
  "language_info": {
   "codemirror_mode": {
    "name": "ipython",
    "version": 3
   },
   "file_extension": ".py",
   "mimetype": "text/x-python",
   "name": "python",
   "nbconvert_exporter": "python",
   "pygments_lexer": "ipython3",
   "version": "3.7.1"
  }
 },
 "nbformat": 4,
 "nbformat_minor": 2
}
