{
 "cells": [
  {
   "cell_type": "code",
   "execution_count": 17,
   "metadata": {},
   "outputs": [
    {
     "name": "stdout",
     "output_type": "stream",
     "text": [
      "14\n",
      "7\n"
     ]
    }
   ],
   "source": [
    "import pandas as pd\n",
    "from bs4 import BeautifulSoup\n",
    "import requests\n",
    "\n",
    "# numOfRows: 한 페이지 결과 수\n",
    "# pageNo: 페이지 번호\n",
    "# sidoName: 시도 명\n",
    "# ver: 오퍼레이션 버전. 1.0버전에서 pm2.5 나옴\n",
    "url='http://openapi.airkorea.or.kr/openapi/services/rest/ArpltnInforInqireSvc/getCtprvnRltmMesureDnsty?sidoName=%EC%84%9C%EC%9A%B8&pageNo=1&numOfRows=1&ServiceKey=CTWCOpgDhkr%2BzPRo7Zux1A7H5v3EeDWZnLHbqFgyxQkNkaJ4uP7x1DhB0HJG4b3On9IyoMSOB1vC867DPlp1hQ%3D%3D&ver=1.0'\n",
    "req=requests.get(url)\n",
    "html=req.text\n",
    "soup=BeautifulSoup(html, 'html.parser')\n",
    "\n",
    "# print(soup)\n",
    "#stationname = soup.find_all('stationname')\n",
    "#datetime = soup.find_all('datatime')\n",
    "pm10value = soup.find_all('pm10value')\n",
    "pm25value = soup.find_all('pm25value')\n",
    "\n",
    "pm10 = pm10value[0].text\n",
    "pm25 = pm25value[0].text\n",
    "\n",
    "#print(stationname[0].text)\n",
    "#print(datetime[0].text)\n",
    "print(pm10)   # 미세먼지.\n",
    "print(pm25)   # 초미세먼지.\n",
    "\n",
    "\n",
    "\n",
    "\n"
   ]
  },
  {
   "cell_type": "code",
   "execution_count": null,
   "metadata": {},
   "outputs": [],
   "source": []
  }
 ],
 "metadata": {
  "kernelspec": {
   "display_name": "Python 3",
   "language": "python",
   "name": "python3"
  },
  "language_info": {
   "codemirror_mode": {
    "name": "ipython",
    "version": 3
   },
   "file_extension": ".py",
   "mimetype": "text/x-python",
   "name": "python",
   "nbconvert_exporter": "python",
   "pygments_lexer": "ipython3",
   "version": "3.7.1"
  }
 },
 "nbformat": 4,
 "nbformat_minor": 2
}
