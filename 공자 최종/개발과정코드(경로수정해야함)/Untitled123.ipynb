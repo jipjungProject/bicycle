{
 "cells": [
  {
   "cell_type": "code",
   "execution_count": 27,
   "metadata": {},
   "outputs": [
    {
     "name": "stdout",
     "output_type": "stream",
     "text": [
      "{'106': 4, '116': 2, '118': 0, '124': 7, '128': 4, '144': 9, '162': 0, '210': 17, '212': 2, '216': 5, '221': 5, '222': 12, '247': 1, '259': 8, '302': 5, '316': 10, '326': 11, '329': 8, '336': 1, '340': 3, '341': 0, '342': 3, '346': 6, '385': 9, '501': 1, '529': 1, '540': 0, '568': 0, '639': 6, '907': 3}\n"
     ]
    }
   ],
   "source": [
    "import sys\n",
    "import pandas as pd\n",
    "import datetime as dt\n",
    "import numpy as np\n",
    "import datetime\n",
    "import pytz\n",
    "import urllib.request\n",
    "import json\n",
    "from dateutil.parser import parse\n",
    "from bs4 import BeautifulSoup\n",
    "from operator import eq \n",
    "import requests\n",
    "\n",
    "\n",
    "num1 = np.array([221, 342, 568, 216, 316, 210, 340, 326, 106, 259,\n",
    "                   302, 639, 540, 341, 212, 222, 336, 116, 124, 385,\n",
    "                   247, 162, 329, 118, 128, 346, 907, 144, 529, 501])\n",
    "num1 = np.sort(num1)\n",
    "\n",
    "#--------------------------------------\n",
    "# 현재 대수\n",
    "a={}\n",
    "def bike_station():\n",
    "    # str 형태로 들어가야함\n",
    "    \n",
    "    URL = 'http://openapi.seoul.go.kr:8088/415176436a6d686d383564506e584f/json/bikeList/1/1000/' \n",
    "    response = requests.get(URL)\n",
    "    data = urllib.request.urlopen(URL).read().decode('utf8')\n",
    "    data_json = json.loads(data)\n",
    "    parsed_json = data_json['rentBikeStatus']['row']\n",
    "    \n",
    "    k=0\n",
    "    # print(parsed_json)\n",
    "    for k in range(0,30):\n",
    "        for one_parsed in parsed_json:\n",
    "            stationName = str(num1[k])\n",
    "            stopName=one_parsed['stationName']\n",
    "            num = stopName.split(\".\")\n",
    "            if str(num[0]) == stationName:\n",
    "                s = int(one_parsed['parkingBikeTotCnt'])\n",
    "                a[stationName] = s\n",
    "                #(int(one_parsed['parkingBikeTotCnt']))\n",
    "                break\n",
    "        \n",
    "bike_station()       \n",
    "print(a)   # 대여소 오름차순 순서대로 현재대수 출력.\n",
    "\n",
    "\n",
    "\n",
    "\n",
    "\n",
    "    \n",
    "        \n",
    "        \n",
    "    \n"
   ]
  },
  {
   "cell_type": "code",
   "execution_count": null,
   "metadata": {},
   "outputs": [],
   "source": []
  },
  {
   "cell_type": "code",
   "execution_count": null,
   "metadata": {},
   "outputs": [],
   "source": []
  }
 ],
 "metadata": {
  "kernelspec": {
   "display_name": "Python 3",
   "language": "python",
   "name": "python3"
  },
  "language_info": {
   "codemirror_mode": {
    "name": "ipython",
    "version": 3
   },
   "file_extension": ".py",
   "mimetype": "text/x-python",
   "name": "python",
   "nbconvert_exporter": "python",
   "pygments_lexer": "ipython3",
   "version": "3.7.1"
  }
 },
 "nbformat": 4,
 "nbformat_minor": 2
}
