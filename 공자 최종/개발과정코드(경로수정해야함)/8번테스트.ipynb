{
 "cells": [
  {
   "cell_type": "code",
   "execution_count": 1,
   "metadata": {},
   "outputs": [
    {
     "name": "stdout",
     "output_type": "stream",
     "text": [
      "        대여장소  년  요일  월   시  빈도수  기온(°C)  강수량(mm)  풍속(m/s)  습도(%)  적설(cm)  \\\n",
      "0        221  7   6  1   0    0     0.2      0.0      2.2     79     0.0   \n",
      "1        221  7   6  1   1    0     0.0      0.0      1.4     78     0.0   \n",
      "2        221  7   6  1   2    0    -0.3      0.0      1.9     81     0.0   \n",
      "3        221  7   6  1   3    0    -0.7      0.0      2.0     84     0.0   \n",
      "4        221  7   6  1   4    0    -1.1      0.0      1.6     85     0.0   \n",
      "5        221  7   6  1   5    2    -1.4      0.0      1.4     86     0.0   \n",
      "6        221  7   6  1   6    1    -1.5      0.0      1.6     87     0.0   \n",
      "7        221  7   6  1   7    0    -1.5      0.0      1.4     87     0.0   \n",
      "8        221  7   6  1   8    2    -1.3      0.0      1.4     87     0.0   \n",
      "9        221  7   6  1   9    0    -0.4      0.0      1.6     83     0.0   \n",
      "10       221  7   6  1  10    1     0.8      0.0      2.1     77     0.0   \n",
      "11       221  7   6  1  11    0     2.5      0.0      1.9     71     0.0   \n",
      "12       221  7   6  1  12    2     4.0      0.0      1.3     69     0.0   \n",
      "13       221  7   6  1  13    0     5.1      0.0      1.4     65     0.0   \n",
      "14       221  7   6  1  14    0     6.7      0.0      0.7     61     0.0   \n",
      "15       221  7   6  1  15    2     6.9      0.0      0.9     65     0.0   \n",
      "16       221  7   6  1  16    0     6.8      0.0      1.2     67     0.0   \n",
      "17       221  7   6  1  17    0     6.5      0.0      0.7     69     0.0   \n",
      "18       221  7   6  1  18    0     5.6      0.0      2.4     70     0.0   \n",
      "19       221  7   6  1  19    0     4.8      0.0      2.2     73     0.0   \n",
      "20       221  7   6  1  20    2     4.2      0.0      1.9     73     0.0   \n",
      "21       221  7   6  1  21    0     4.0      0.0      2.6     74     0.0   \n",
      "22       221  7   6  1  22    0     3.9      0.0      1.4     75     0.0   \n",
      "23       221  7   6  1  23    0     3.9      0.0      1.4     75     0.0   \n",
      "24       221  7   0  1   0    0     3.9      0.0      1.5     75     0.0   \n",
      "25       221  7   0  1   1    1     3.9      0.0      2.1     75     0.0   \n",
      "26       221  7   0  1   2    0     3.8      0.0      2.2     77     0.0   \n",
      "27       221  7   0  1   3    0     3.7      0.0      1.7     76     0.0   \n",
      "28       221  7   0  1   4    0     3.7      0.0      1.5     77     0.0   \n",
      "29       221  7   0  1   5    1     3.7      0.0      1.5     80     0.0   \n",
      "...      ... ..  .. ..  ..  ...     ...      ...      ...    ...     ...   \n",
      "590370   501  9   5  3  18    0     4.7      0.0      4.2     66     0.0   \n",
      "590371   501  9   5  3  19    0     3.7      0.0      4.9     65     0.0   \n",
      "590372   501  9   5  3  20    0     3.6      0.0      4.3     68     0.0   \n",
      "590373   501  9   5  3  21    0     3.7      0.1      3.7     69     0.0   \n",
      "590374   501  9   5  3  22    0     3.9      0.0      3.5     69     0.0   \n",
      "590375   501  9   5  3  23    0     4.1      0.0      4.2     70     0.0   \n",
      "590376   501  9   6  3   0    0     3.7      0.0      3.8     72     0.0   \n",
      "590377   501  9   6  3   1    0     3.4      0.0      4.4     69     0.0   \n",
      "590378   501  9   6  3   2    0     3.2      0.0      4.8     70     0.0   \n",
      "590379   501  9   6  3   3    0     3.3      0.0      3.4     69     0.0   \n",
      "590380   501  9   6  3   4    0     3.2      0.0      3.1     69     0.0   \n",
      "590381   501  9   6  3   5    0     3.2      0.0      2.9     70     0.0   \n",
      "590382   501  9   6  3   6    0     3.1      0.0      3.0     69     0.0   \n",
      "590383   501  9   6  3   7    0     3.0      0.0      1.5     67     0.0   \n",
      "590384   501  9   6  3   8    0     3.0      0.0      2.8     63     0.0   \n",
      "590385   501  9   6  3   9    3     3.1      0.0      2.6     60     0.0   \n",
      "590386   501  9   6  3  10    1     3.5      0.0      3.7     58     0.0   \n",
      "590387   501  9   6  3  11    1     4.2      0.0      2.7     53     0.0   \n",
      "590388   501  9   6  3  12    0     5.0      0.0      4.1     47     0.0   \n",
      "590389   501  9   6  3  13    0     4.8      0.0      3.1     51     0.0   \n",
      "590390   501  9   6  3  14    0     5.3      0.0      2.9     46     0.0   \n",
      "590391   501  9   6  3  15    2     6.7      0.0      3.0     35     0.0   \n",
      "590392   501  9   6  3  16    0     8.0      0.0      3.3     24     0.0   \n",
      "590393   501  9   6  3  17    2     7.5      0.0      4.4     20     0.0   \n",
      "590394   501  9   6  3  18    3     6.8      0.0      3.2     27     0.0   \n",
      "590395   501  9   6  3  19    0     5.9      0.0      3.1     24     0.0   \n",
      "590396   501  9   6  3  20    0     4.9      0.0      2.6     24     0.0   \n",
      "590397   501  9   6  3  21    2     4.2      0.0      3.1     25     0.0   \n",
      "590398   501  9   6  3  22    2     3.6      0.0      2.8     28     0.0   \n",
      "590399   501  9   6  3  23    0     3.0      0.0      1.6     31     0.0   \n",
      "\n",
      "        요일_0  요일_1  요일_2  요일_3  요일_4  요일_5  요일_6  \n",
      "0          0     0     0     0     0     0     1  \n",
      "1          0     0     0     0     0     0     1  \n",
      "2          0     0     0     0     0     0     1  \n",
      "3          0     0     0     0     0     0     1  \n",
      "4          0     0     0     0     0     0     1  \n",
      "5          0     0     0     0     0     0     1  \n",
      "6          0     0     0     0     0     0     1  \n",
      "7          0     0     0     0     0     0     1  \n",
      "8          0     0     0     0     0     0     1  \n",
      "9          0     0     0     0     0     0     1  \n",
      "10         0     0     0     0     0     0     1  \n",
      "11         0     0     0     0     0     0     1  \n",
      "12         0     0     0     0     0     0     1  \n",
      "13         0     0     0     0     0     0     1  \n",
      "14         0     0     0     0     0     0     1  \n",
      "15         0     0     0     0     0     0     1  \n",
      "16         0     0     0     0     0     0     1  \n",
      "17         0     0     0     0     0     0     1  \n",
      "18         0     0     0     0     0     0     1  \n",
      "19         0     0     0     0     0     0     1  \n",
      "20         0     0     0     0     0     0     1  \n",
      "21         0     0     0     0     0     0     1  \n",
      "22         0     0     0     0     0     0     1  \n",
      "23         0     0     0     0     0     0     1  \n",
      "24         1     0     0     0     0     0     0  \n",
      "25         1     0     0     0     0     0     0  \n",
      "26         1     0     0     0     0     0     0  \n",
      "27         1     0     0     0     0     0     0  \n",
      "28         1     0     0     0     0     0     0  \n",
      "29         1     0     0     0     0     0     0  \n",
      "...      ...   ...   ...   ...   ...   ...   ...  \n",
      "590370     0     0     0     0     0     1     0  \n",
      "590371     0     0     0     0     0     1     0  \n",
      "590372     0     0     0     0     0     1     0  \n",
      "590373     0     0     0     0     0     1     0  \n",
      "590374     0     0     0     0     0     1     0  \n",
      "590375     0     0     0     0     0     1     0  \n",
      "590376     0     0     0     0     0     0     1  \n",
      "590377     0     0     0     0     0     0     1  \n",
      "590378     0     0     0     0     0     0     1  \n",
      "590379     0     0     0     0     0     0     1  \n",
      "590380     0     0     0     0     0     0     1  \n",
      "590381     0     0     0     0     0     0     1  \n",
      "590382     0     0     0     0     0     0     1  \n",
      "590383     0     0     0     0     0     0     1  \n",
      "590384     0     0     0     0     0     0     1  \n",
      "590385     0     0     0     0     0     0     1  \n",
      "590386     0     0     0     0     0     0     1  \n",
      "590387     0     0     0     0     0     0     1  \n",
      "590388     0     0     0     0     0     0     1  \n",
      "590389     0     0     0     0     0     0     1  \n",
      "590390     0     0     0     0     0     0     1  \n",
      "590391     0     0     0     0     0     0     1  \n",
      "590392     0     0     0     0     0     0     1  \n",
      "590393     0     0     0     0     0     0     1  \n",
      "590394     0     0     0     0     0     0     1  \n",
      "590395     0     0     0     0     0     0     1  \n",
      "590396     0     0     0     0     0     0     1  \n",
      "590397     0     0     0     0     0     0     1  \n",
      "590398     0     0     0     0     0     0     1  \n",
      "590399     0     0     0     0     0     0     1  \n",
      "\n",
      "[590400 rows x 18 columns]\n"
     ]
    }
   ],
   "source": [
    "from csv import reader\n",
    "import pandas as pd\n",
    "import datetime as dt\n",
    "import numpy as np\n",
    "from sklearn.model_selection import train_test_split\n",
    "from sklearn.metrics import mean_absolute_error\n",
    "from sklearn.model_selection import GridSearchCV\n",
    "from sklearn import linear_model as lm\n",
    "from scipy.stats import uniform, randint\n",
    "\n",
    "rental = np.array([221, 342, 568, 216, 316, 210, 340, 326, 106, 259,\n",
    "                   302, 639, 540, 341, 212,222, 336, 116, 124, 385,\n",
    "                   247, 162, 329, 118, 128, 346, 907, 144, 529, 501\n",
    "                  ])\n",
    "\n",
    "\n",
    "try:\n",
    "    t = pd.read_pickle('data/pickle/최종30천왕.pkl')\n",
    "    \n",
    "except:\n",
    "    \n",
    "    df1 = pd.DataFrame(pd.read_csv(\"data/database/201801.csv\"))\n",
    "    df2 = pd.DataFrame(pd.read_csv(\"data/database/201802.csv\"))\n",
    "    df3 = pd.DataFrame(pd.read_csv(\"data/database/201803.csv\"))\n",
    "    df4 = pd.DataFrame(pd.read_csv(\"data/database/201804.csv\"))\n",
    "    df5 = pd.DataFrame(pd.read_csv(\"data/database/201805.csv\"))\n",
    "    df6_1 = pd.DataFrame(pd.read_csv(\"data/database/201806_01.csv\"))\n",
    "    df6_2 = pd.DataFrame(pd.read_csv(\"data/database/201806_02.csv\"))\n",
    "    df6 = pd.concat([df6_1, df6_2])\n",
    "    df7_1 = pd.DataFrame(pd.read_csv(\"data/database/201807_01.csv\"))\n",
    "    df7_2 = pd.DataFrame(pd.read_csv(\"data/database/201807_02.csv\"))\n",
    "    df7 = pd.concat([df7_1, df7_2])\n",
    "    df8 = pd.DataFrame(pd.read_csv(\"data/database/201808.csv\"))\n",
    "    df9_1 = pd.DataFrame(pd.read_csv(\"data/database/201809_1.csv\"))\n",
    "    df9_2 = pd.DataFrame(pd.read_csv(\"data/database/201809_2.csv\"))\n",
    "    df9 = pd.concat([df9_1, df9_2])\n",
    "    df10_1 = pd.DataFrame(pd.read_csv(\"data/database/201810_01.csv\"))\n",
    "    df10_2 = pd.DataFrame(pd.read_csv(\"data/database/201810_02.csv\"))\n",
    "    df10 = pd.concat([df10_1, df10_2])\n",
    "    df11 = pd.DataFrame(pd.read_csv(\"data/database/201811.csv\"))\n",
    "    df12 = pd.DataFrame(pd.read_csv(\"data/database/201812.csv\"))\n",
    "\n",
    "\n",
    "    df2017_1 = pd.DataFrame(pd.read_csv(\"data/database/201701.csv\"))\n",
    "    df2017_2 = pd.DataFrame(pd.read_csv(\"data/database/201702.csv\"))\n",
    "    df2017_3 = pd.DataFrame(pd.read_csv(\"data/database/201703.csv\"))\n",
    "    df2017_4 = pd.DataFrame(pd.read_csv(\"data/database/201704.csv\"))\n",
    "    df2017_5 = pd.DataFrame(pd.read_csv(\"data/database/201705.csv\"))\n",
    "    df2017_6 = pd.DataFrame(pd.read_csv(\"data/database/201706.csv\"))\n",
    "    df2017_7 = pd.DataFrame(pd.read_csv(\"data/database/201707.csv\"))\n",
    "    df2017_8 = pd.DataFrame(pd.read_csv(\"data/database/201708.csv\"))\n",
    "    df2017_9 = pd.DataFrame(pd.read_csv(\"data/database/201709.csv\"))\n",
    "    df2017_10 = pd.DataFrame(pd.read_csv(\"data/database/201710.csv\"))\n",
    "    df2017_11 = pd.DataFrame(pd.read_csv(\"data/database/201711.csv\"))\n",
    "    df2017_12 = pd.DataFrame(pd.read_csv(\"data/database/201712.csv\"))\n",
    "\n",
    "    df = [[df2017_1, df2017_2, df2017_3, df2017_4, df2017_5, df2017_6, df2017_7, df2017_8, df2017_9, df2017_10, df2017_11, df2017_12],[df1, df2, df3, df4, df5, df6, df7, df8, df9, df10, df11, df12]]\n",
    "    \n",
    "    def load_2019_df(rental_no, w , df2019_1, df2019_2, df2019_3):\n",
    "        wt = load_weather_month(w, 1)\n",
    "        datat, baset = calculate_date(df2019_1)\n",
    "        temp = concat_columns(datat, wt, baset, rental_no)\n",
    "\n",
    "        wt1 = load_weather_month(w, 2)\n",
    "        datat1, baset1 = calculate_date(df2019_2)\n",
    "        temp1 = concat_columns(datat1, wt1, baset1, rental_no)\n",
    "\n",
    "        wt3 = load_weather_month(w, 3)\n",
    "        datat2, baset2 = calculate_date(df2019_3)\n",
    "        temp2 = concat_columns(datat2, wt3, baset2, rental_no)\n",
    "    \n",
    "        result = pd.concat([temp, temp1, temp2])\n",
    "        return result\n",
    "        \n",
    "    def load_2019():\n",
    "        df2019_1 = pd.DataFrame(pd.read_csv(\"data/database/201901.csv\"))\n",
    "        df2019_2 = pd.DataFrame(pd.read_csv(\"data/database/201902.csv\"))\n",
    "        df2019_3 = pd.DataFrame(pd.read_csv(\"data/database/201903.csv\"))\n",
    "        weather = pd.read_csv(\"data/database/2019weather.csv\")\n",
    "        dfw1 = pd.DataFrame(weather)\n",
    "        dfw1['일시'] = pd.to_datetime(dfw1['일시'], errors='coerce')\n",
    "        dfw1['월'] = dfw1['일시'].dt.month\n",
    "        dfw1['일'] = dfw1['일시'].dt.day\n",
    "        dfw1['시'] = dfw1['일시'].dt.hour\n",
    "        \n",
    "        t1 = load_2019_df(221, dfw1, df2019_1, df2019_2, df2019_3)\n",
    "        t2 = load_2019_df(342, dfw1, df2019_1, df2019_2, df2019_3)\n",
    "        t3 = load_2019_df(568, dfw1, df2019_1, df2019_2, df2019_3)\n",
    "        t4 = load_2019_df(216, dfw1, df2019_1, df2019_2, df2019_3)\n",
    "        t5 = load_2019_df(316, dfw1, df2019_1, df2019_2, df2019_3)\n",
    "        t6 = load_2019_df(210, dfw1, df2019_1, df2019_2, df2019_3)\n",
    "        t7 = load_2019_df(340, dfw1, df2019_1, df2019_2, df2019_3)\n",
    "        t8 = load_2019_df(326, dfw1, df2019_1, df2019_2, df2019_3)\n",
    "        t9 = load_2019_df(106, dfw1, df2019_1, df2019_2, df2019_3)\n",
    "        t10 = load_2019_df(259, dfw1, df2019_1, df2019_2, df2019_3)\n",
    "        \n",
    "        t11 = load_2019_df(302, dfw1, df2019_1, df2019_2, df2019_3)\n",
    "        t12 = load_2019_df(639, dfw1, df2019_1, df2019_2, df2019_3)\n",
    "        t13 = load_2019_df(540, dfw1, df2019_1, df2019_2, df2019_3)\n",
    "        t14 = load_2019_df(341, dfw1, df2019_1, df2019_2, df2019_3)\n",
    "        t15 = load_2019_df(212, dfw1, df2019_1, df2019_2, df2019_3)\n",
    "        t16 = load_2019_df(222, dfw1, df2019_1, df2019_2, df2019_3)\n",
    "        t17 = load_2019_df(336, dfw1, df2019_1, df2019_2, df2019_3)\n",
    "        t18 = load_2019_df(116, dfw1, df2019_1, df2019_2, df2019_3)\n",
    "        t19 = load_2019_df(124, dfw1, df2019_1, df2019_2, df2019_3)\n",
    "        t20 = load_2019_df(385, dfw1, df2019_1, df2019_2, df2019_3)\n",
    "        \n",
    "        t21 = load_2019_df(247, dfw1, df2019_1, df2019_2, df2019_3)\n",
    "        t22 = load_2019_df(162, dfw1, df2019_1, df2019_2, df2019_3)\n",
    "        t23 = load_2019_df(329, dfw1, df2019_1, df2019_2, df2019_3)\n",
    "        t24 = load_2019_df(118, dfw1, df2019_1, df2019_2, df2019_3)\n",
    "        t25 = load_2019_df(128, dfw1, df2019_1, df2019_2, df2019_3)\n",
    "        t26 = load_2019_df(346, dfw1, df2019_1, df2019_2, df2019_3)\n",
    "        t27 = load_2019_df(907, dfw1, df2019_1, df2019_2, df2019_3)\n",
    "        t28 = load_2019_df(144, dfw1, df2019_1, df2019_2, df2019_3)\n",
    "        t29 = load_2019_df(529, dfw1, df2019_1, df2019_2, df2019_3)\n",
    "        t30 = load_2019_df(501, dfw1, df2019_1, df2019_2, df2019_3)\n",
    "\n",
    "\n",
    "        \n",
    "        \n",
    "        t= pd.concat([t1,t2,t3,t4,t5,t6,t7,t8,t9,t10,t11,t12,t13,t14,t15,t16,t17,t18,t19,t20,\n",
    "                     t21, t22, t23, t24, t25, t26, t27, t28, t29, t30]).reset_index(drop=True)\n",
    "        \n",
    "    \n",
    "        return t  \n",
    "    \n",
    "    def load_weather():\n",
    "        weather = pd.read_csv(\"data/database/2017weather.csv\")\n",
    "        dfw1 = pd.DataFrame(weather)\n",
    "        dfw1['일시'] = pd.to_datetime(dfw1['일시'], errors='coerce')\n",
    "        dfw1['월'] = dfw1['일시'].dt.month\n",
    "        dfw1['일'] = dfw1['일시'].dt.day\n",
    "        dfw1['시'] = dfw1['일시'].dt.hour\n",
    "        weather1 = pd.read_csv(\"data/database/2018weather.csv\")\n",
    "        dfw2 = pd.DataFrame(weather1)\n",
    "        dfw2['일시'] = pd.to_datetime(dfw2['일시'], errors='coerce')\n",
    "        dfw2['월'] = dfw2['일시'].dt.month\n",
    "        dfw2['일'] = dfw2['일시'].dt.day\n",
    "        dfw2['시'] = dfw2['일시'].dt.hour\n",
    "        dfw = [dfw1, dfw2]\n",
    "        return dfw\n",
    "\n",
    "    dfw = load_weather()\n",
    "\n",
    "    def load_weather_month(weather, mon):\n",
    "        weather1 = weather[weather['월'] == mon]\n",
    "        weather1 = weather1.drop(['일시','월'], 1).reset_index(drop=True)\n",
    "        return weather1\n",
    "\n",
    "    def calculate_date(df):\n",
    "        dft = df\n",
    "        dft['대여시간'] = pd.to_datetime(dft['대여시간'], errors='coerce')\n",
    "        dft['년'] = dft['대여시간'].dt.year - 2010\n",
    "        dft['요일'] = dft['대여시간'].dt.weekday\n",
    "        dft['월'] = dft['대여시간'].dt.month\n",
    "        dft['일'] = dft['대여시간'].dt.day\n",
    "        dft['시'] = dft['대여시간'].dt.hour\n",
    "        base = pd.DataFrame(dft.drop_duplicates(['일','시'])).reset_index(drop=True)\n",
    "        dftemp = df[df['대여장소'].isin(rental)]\n",
    "        return dftemp, base\n",
    "\n",
    "    def concat_columns(dftemp, dfw, base, rental_no):\n",
    "        temp1 = base\n",
    "        dftemp113 = dftemp[dftemp['대여장소'] == rental_no]\n",
    "        #print(pd.crosstab(dftemp113['일'], dftemp113['시'], margins=False))\n",
    "        fre = pd.crosstab(dftemp113['일'], dftemp113['시'], margins=False).values.flatten()\n",
    "        frelist = fre.tolist()\n",
    "\n",
    "        for i in range(int(dfw.shape[0]/24)):\n",
    "            if((dftemp113[dftemp113['일'] == (i+1)]).shape[0]==0):\n",
    "                for x in range(24):\n",
    "                    frelist.insert((i*24)+x ,0)\n",
    "\n",
    "        for i in range(24):\n",
    "            if((dftemp113[dftemp113['시'] == i]).shape[0]==0):\n",
    "                for x in range(int(dfw.shape[0]/24)):\n",
    "                    frelist.insert((i+(x*24)),0)\n",
    "\n",
    "        fre = np.array(frelist)                        \n",
    "        fre = pd.DataFrame(fre, columns=['건수'])\n",
    "        temp1['대여장소'] = rental_no\n",
    "        temp1['빈도수'] = fre['건수']\n",
    "        temp1 = temp1.drop(['대여시간', '반납시간', '반납장소'], 1)\n",
    "        temp1 = pd.merge(temp1, dfw, on=['일', '시'])\n",
    "        temp1 = temp1.drop(['일'], 1)\n",
    "        return temp1\n",
    "\n",
    "    def data_no(rental_no):\n",
    "        dfwlist = []\n",
    "        data = [0 for _ in range(12)]\n",
    "        base = [0 for _ in range(12)]\n",
    "        temp = [0 for _ in range(12)]\n",
    "        r = pd.DataFrame()\n",
    "        for x in range(len(dfw)):\n",
    "            for i in range(12):\n",
    "                dfwlist.append(load_weather_month(dfw[x], i+1))\n",
    "\n",
    "            for i in range(12):\n",
    "                data[i], base[i] = calculate_date(df[x][i])\n",
    "\n",
    "            for i in range(12):\n",
    "                temp[i] = concat_columns(data[i], dfwlist[12*x+i], base[i], rental_no)\n",
    "\n",
    "            result = pd.concat([temp[0],temp[1],temp[2],temp[3],temp[4],temp[5],temp[6],temp[7],temp[8],temp[9],temp[10],temp[11]]).reset_index(drop=True)\n",
    "            r = pd.concat([r, result])\n",
    "\n",
    "        return r.reset_index(drop=True)\n",
    "    \n",
    "    t2019 = load_2019()\n",
    "    \n",
    "\n",
    "    t1 = data_no(221)\n",
    "    t2 = data_no(342)\n",
    "    t3 = data_no(568)\n",
    "    t4 = data_no(216)\n",
    "    t5 = data_no(316)\n",
    "    t6 = data_no(210)\n",
    "    t7 = data_no(340)\n",
    "    t8 = data_no(326)\n",
    "    t9 = data_no(106)\n",
    "    t10 = data_no(259)\n",
    "    \n",
    "    t11 = data_no(302)\n",
    "    t12 = data_no(639)\n",
    "    t13 = data_no(540)\n",
    "    t14 = data_no(341)\n",
    "    t15 = data_no(212)\n",
    "    t16 = data_no(222)\n",
    "    t17 = data_no(336)\n",
    "    t18 = data_no(116)\n",
    "    t19 = data_no(124)\n",
    "    t20 = data_no(385)\n",
    "    \n",
    "    t21 = data_no(247)\n",
    "    t22 = data_no(162)\n",
    "    t23 = data_no(329)\n",
    "    t24 = data_no(118)\n",
    "    t25 = data_no(128)\n",
    "    t26 = data_no(346)\n",
    "    t27 = data_no(907)\n",
    "    t28 = data_no(144)\n",
    "    t29 = data_no(529)\n",
    "    t30 = data_no(501)\n",
    "\n",
    "    \n",
    "    t= pd.concat([t1,t2,t3,t4,t5,t6,t7,t8,t9,t10,t11,t12,t13,t14,t15,t16,t17,t18,t19,t20, t21, t22, t23, t24, t25, t26, t27, t28, t29, t30]).reset_index(drop=True)\n",
    "    t = pd.concat([t,t2019]).reset_index(drop=True)\n",
    "\n",
    "    t = t.join(pd.get_dummies(t['요일'], prefix=\"요일\"))\n",
    "    t.to_pickle('data/pickle/최종30천왕.pkl')\n",
    "    \n",
    "print(t)\n"
   ]
  },
  {
   "cell_type": "code",
   "execution_count": 2,
   "metadata": {
    "scrolled": false
   },
   "outputs": [
    {
     "name": "stdout",
     "output_type": "stream",
     "text": [
      "\n",
      "[1/30] 106번 대여소 \n",
      "Fitting 5 folds for each of 45 candidates, totalling 225 fits\n"
     ]
    },
    {
     "name": "stderr",
     "output_type": "stream",
     "text": [
      "[Parallel(n_jobs=-1)]: Using backend LokyBackend with 8 concurrent workers.\n",
      "[Parallel(n_jobs=-1)]: Done  34 tasks      | elapsed:   13.9s\n",
      "[Parallel(n_jobs=-1)]: Done 184 tasks      | elapsed:  1.2min\n",
      "[Parallel(n_jobs=-1)]: Done 225 out of 225 | elapsed:  1.6min finished\n",
      "C:\\Users\\romaa\\Anaconda3\\lib\\site-packages\\xgboost\\core.py:587: FutureWarning: Series.base is deprecated and will be removed in a future version\n",
      "  if getattr(data, 'base', None) is not None and \\\n"
     ]
    },
    {
     "name": "stdout",
     "output_type": "stream",
     "text": [
      "1.6471796910376932\n",
      "\n",
      "[2/30] 116번 대여소 \n",
      "Fitting 5 folds for each of 45 candidates, totalling 225 fits\n"
     ]
    },
    {
     "name": "stderr",
     "output_type": "stream",
     "text": [
      "[Parallel(n_jobs=-1)]: Using backend LokyBackend with 8 concurrent workers.\n",
      "[Parallel(n_jobs=-1)]: Done  34 tasks      | elapsed:   11.1s\n",
      "[Parallel(n_jobs=-1)]: Done 184 tasks      | elapsed:  1.2min\n",
      "[Parallel(n_jobs=-1)]: Done 225 out of 225 | elapsed:  1.5min finished\n",
      "C:\\Users\\romaa\\Anaconda3\\lib\\site-packages\\xgboost\\core.py:587: FutureWarning: Series.base is deprecated and will be removed in a future version\n",
      "  if getattr(data, 'base', None) is not None and \\\n"
     ]
    },
    {
     "name": "stdout",
     "output_type": "stream",
     "text": [
      "1.0671154824804847\n",
      "\n",
      "[3/30] 118번 대여소 \n",
      "Fitting 5 folds for each of 45 candidates, totalling 225 fits\n"
     ]
    },
    {
     "name": "stderr",
     "output_type": "stream",
     "text": [
      "[Parallel(n_jobs=-1)]: Using backend LokyBackend with 8 concurrent workers.\n",
      "[Parallel(n_jobs=-1)]: Done  34 tasks      | elapsed:   12.6s\n",
      "[Parallel(n_jobs=-1)]: Done 184 tasks      | elapsed:  1.3min\n",
      "[Parallel(n_jobs=-1)]: Done 225 out of 225 | elapsed:  1.7min finished\n",
      "C:\\Users\\romaa\\Anaconda3\\lib\\site-packages\\xgboost\\core.py:587: FutureWarning: Series.base is deprecated and will be removed in a future version\n",
      "  if getattr(data, 'base', None) is not None and \\\n"
     ]
    },
    {
     "name": "stdout",
     "output_type": "stream",
     "text": [
      "0.9449225856384974\n",
      "\n",
      "[4/30] 124번 대여소 \n",
      "Fitting 5 folds for each of 45 candidates, totalling 225 fits\n"
     ]
    },
    {
     "name": "stderr",
     "output_type": "stream",
     "text": [
      "[Parallel(n_jobs=-1)]: Using backend LokyBackend with 8 concurrent workers.\n",
      "[Parallel(n_jobs=-1)]: Done  34 tasks      | elapsed:   14.2s\n",
      "[Parallel(n_jobs=-1)]: Done 184 tasks      | elapsed:  1.4min\n",
      "[Parallel(n_jobs=-1)]: Done 225 out of 225 | elapsed:  1.8min finished\n",
      "C:\\Users\\romaa\\Anaconda3\\lib\\site-packages\\xgboost\\core.py:587: FutureWarning: Series.base is deprecated and will be removed in a future version\n",
      "  if getattr(data, 'base', None) is not None and \\\n"
     ]
    },
    {
     "name": "stdout",
     "output_type": "stream",
     "text": [
      "0.9789855654495276\n",
      "\n",
      "[5/30] 128번 대여소 \n",
      "Fitting 5 folds for each of 45 candidates, totalling 225 fits\n"
     ]
    },
    {
     "name": "stderr",
     "output_type": "stream",
     "text": [
      "[Parallel(n_jobs=-1)]: Using backend LokyBackend with 8 concurrent workers.\n",
      "[Parallel(n_jobs=-1)]: Done  34 tasks      | elapsed:   13.1s\n",
      "[Parallel(n_jobs=-1)]: Done 184 tasks      | elapsed:  1.4min\n",
      "[Parallel(n_jobs=-1)]: Done 225 out of 225 | elapsed:  1.7min finished\n",
      "C:\\Users\\romaa\\Anaconda3\\lib\\site-packages\\xgboost\\core.py:587: FutureWarning: Series.base is deprecated and will be removed in a future version\n",
      "  if getattr(data, 'base', None) is not None and \\\n"
     ]
    },
    {
     "name": "stdout",
     "output_type": "stream",
     "text": [
      "1.173911988008313\n",
      "\n",
      "[6/30] 144번 대여소 \n",
      "Fitting 5 folds for each of 45 candidates, totalling 225 fits\n"
     ]
    },
    {
     "name": "stderr",
     "output_type": "stream",
     "text": [
      "[Parallel(n_jobs=-1)]: Using backend LokyBackend with 8 concurrent workers.\n",
      "[Parallel(n_jobs=-1)]: Done  34 tasks      | elapsed:   14.0s\n",
      "[Parallel(n_jobs=-1)]: Done 184 tasks      | elapsed:  1.5min\n",
      "[Parallel(n_jobs=-1)]: Done 225 out of 225 | elapsed:  1.9min finished\n",
      "C:\\Users\\romaa\\Anaconda3\\lib\\site-packages\\xgboost\\core.py:587: FutureWarning: Series.base is deprecated and will be removed in a future version\n",
      "  if getattr(data, 'base', None) is not None and \\\n"
     ]
    },
    {
     "name": "stdout",
     "output_type": "stream",
     "text": [
      "1.277323324892034\n",
      "\n",
      "[7/30] 162번 대여소 \n",
      "Fitting 5 folds for each of 45 candidates, totalling 225 fits\n"
     ]
    },
    {
     "name": "stderr",
     "output_type": "stream",
     "text": [
      "[Parallel(n_jobs=-1)]: Using backend LokyBackend with 8 concurrent workers.\n",
      "[Parallel(n_jobs=-1)]: Done  34 tasks      | elapsed:   11.9s\n",
      "[Parallel(n_jobs=-1)]: Done 184 tasks      | elapsed:  1.3min\n",
      "[Parallel(n_jobs=-1)]: Done 225 out of 225 | elapsed:  1.7min finished\n",
      "C:\\Users\\romaa\\Anaconda3\\lib\\site-packages\\xgboost\\core.py:587: FutureWarning: Series.base is deprecated and will be removed in a future version\n",
      "  if getattr(data, 'base', None) is not None and \\\n"
     ]
    },
    {
     "name": "stdout",
     "output_type": "stream",
     "text": [
      "0.8663791928182893\n",
      "\n",
      "[8/30] 210번 대여소 \n",
      "Fitting 5 folds for each of 45 candidates, totalling 225 fits\n"
     ]
    },
    {
     "name": "stderr",
     "output_type": "stream",
     "text": [
      "[Parallel(n_jobs=-1)]: Using backend LokyBackend with 8 concurrent workers.\n",
      "[Parallel(n_jobs=-1)]: Done  34 tasks      | elapsed:   15.0s\n",
      "[Parallel(n_jobs=-1)]: Done 184 tasks      | elapsed:  1.6min\n",
      "[Parallel(n_jobs=-1)]: Done 225 out of 225 | elapsed:  2.0min finished\n",
      "C:\\Users\\romaa\\Anaconda3\\lib\\site-packages\\xgboost\\core.py:587: FutureWarning: Series.base is deprecated and will be removed in a future version\n",
      "  if getattr(data, 'base', None) is not None and \\\n"
     ]
    },
    {
     "name": "stdout",
     "output_type": "stream",
     "text": [
      "1.6450760943163945\n",
      "\n",
      "[9/30] 212번 대여소 \n",
      "Fitting 5 folds for each of 45 candidates, totalling 225 fits\n"
     ]
    },
    {
     "name": "stderr",
     "output_type": "stream",
     "text": [
      "[Parallel(n_jobs=-1)]: Using backend LokyBackend with 8 concurrent workers.\n",
      "[Parallel(n_jobs=-1)]: Done  34 tasks      | elapsed:   14.3s\n",
      "[Parallel(n_jobs=-1)]: Done 184 tasks      | elapsed:  1.5min\n",
      "[Parallel(n_jobs=-1)]: Done 225 out of 225 | elapsed:  1.9min finished\n",
      "C:\\Users\\romaa\\Anaconda3\\lib\\site-packages\\xgboost\\core.py:587: FutureWarning: Series.base is deprecated and will be removed in a future version\n",
      "  if getattr(data, 'base', None) is not None and \\\n"
     ]
    },
    {
     "name": "stdout",
     "output_type": "stream",
     "text": [
      "1.472221399718002\n",
      "\n",
      "[10/30] 216번 대여소 \n",
      "Fitting 5 folds for each of 45 candidates, totalling 225 fits\n"
     ]
    },
    {
     "name": "stderr",
     "output_type": "stream",
     "text": [
      "[Parallel(n_jobs=-1)]: Using backend LokyBackend with 8 concurrent workers.\n",
      "[Parallel(n_jobs=-1)]: Done  34 tasks      | elapsed:   15.5s\n",
      "[Parallel(n_jobs=-1)]: Done 184 tasks      | elapsed:  1.5min\n",
      "[Parallel(n_jobs=-1)]: Done 225 out of 225 | elapsed:  1.9min finished\n",
      "C:\\Users\\romaa\\Anaconda3\\lib\\site-packages\\xgboost\\core.py:587: FutureWarning: Series.base is deprecated and will be removed in a future version\n",
      "  if getattr(data, 'base', None) is not None and \\\n"
     ]
    },
    {
     "name": "stdout",
     "output_type": "stream",
     "text": [
      "0.9119715171949407\n",
      "\n",
      "[11/30] 221번 대여소 \n",
      "Fitting 5 folds for each of 45 candidates, totalling 225 fits\n"
     ]
    },
    {
     "name": "stderr",
     "output_type": "stream",
     "text": [
      "[Parallel(n_jobs=-1)]: Using backend LokyBackend with 8 concurrent workers.\n",
      "[Parallel(n_jobs=-1)]: Done  34 tasks      | elapsed:   14.6s\n",
      "[Parallel(n_jobs=-1)]: Done 184 tasks      | elapsed:  1.3min\n",
      "[Parallel(n_jobs=-1)]: Done 225 out of 225 | elapsed:  1.6min finished\n",
      "C:\\Users\\romaa\\Anaconda3\\lib\\site-packages\\xgboost\\core.py:587: FutureWarning: Series.base is deprecated and will be removed in a future version\n",
      "  if getattr(data, 'base', None) is not None and \\\n"
     ]
    },
    {
     "name": "stdout",
     "output_type": "stream",
     "text": [
      "1.0650595828391067\n",
      "\n",
      "[12/30] 222번 대여소 \n",
      "Fitting 5 folds for each of 45 candidates, totalling 225 fits\n"
     ]
    },
    {
     "name": "stderr",
     "output_type": "stream",
     "text": [
      "[Parallel(n_jobs=-1)]: Using backend LokyBackend with 8 concurrent workers.\n",
      "[Parallel(n_jobs=-1)]: Done  34 tasks      | elapsed:   13.7s\n",
      "[Parallel(n_jobs=-1)]: Done 184 tasks      | elapsed:  1.3min\n",
      "[Parallel(n_jobs=-1)]: Done 225 out of 225 | elapsed:  1.7min finished\n",
      "C:\\Users\\romaa\\Anaconda3\\lib\\site-packages\\xgboost\\core.py:587: FutureWarning: Series.base is deprecated and will be removed in a future version\n",
      "  if getattr(data, 'base', None) is not None and \\\n"
     ]
    },
    {
     "name": "stdout",
     "output_type": "stream",
     "text": [
      "1.3436867387405014\n",
      "\n",
      "[13/30] 247번 대여소 \n",
      "Fitting 5 folds for each of 45 candidates, totalling 225 fits\n"
     ]
    },
    {
     "name": "stderr",
     "output_type": "stream",
     "text": [
      "[Parallel(n_jobs=-1)]: Using backend LokyBackend with 8 concurrent workers.\n",
      "[Parallel(n_jobs=-1)]: Done  34 tasks      | elapsed:   17.6s\n",
      "[Parallel(n_jobs=-1)]: Done 184 tasks      | elapsed:  1.5min\n",
      "[Parallel(n_jobs=-1)]: Done 225 out of 225 | elapsed:  2.0min finished\n",
      "C:\\Users\\romaa\\Anaconda3\\lib\\site-packages\\xgboost\\core.py:587: FutureWarning: Series.base is deprecated and will be removed in a future version\n",
      "  if getattr(data, 'base', None) is not None and \\\n"
     ]
    },
    {
     "name": "stdout",
     "output_type": "stream",
     "text": [
      "1.483238248404388\n",
      "\n",
      "[14/30] 259번 대여소 \n",
      "Fitting 5 folds for each of 45 candidates, totalling 225 fits\n"
     ]
    },
    {
     "name": "stderr",
     "output_type": "stream",
     "text": [
      "[Parallel(n_jobs=-1)]: Using backend LokyBackend with 8 concurrent workers.\n",
      "[Parallel(n_jobs=-1)]: Done  34 tasks      | elapsed:   16.6s\n",
      "[Parallel(n_jobs=-1)]: Done 184 tasks      | elapsed:  1.4min\n",
      "[Parallel(n_jobs=-1)]: Done 225 out of 225 | elapsed:  1.8min finished\n",
      "C:\\Users\\romaa\\Anaconda3\\lib\\site-packages\\xgboost\\core.py:587: FutureWarning: Series.base is deprecated and will be removed in a future version\n",
      "  if getattr(data, 'base', None) is not None and \\\n"
     ]
    },
    {
     "name": "stdout",
     "output_type": "stream",
     "text": [
      "1.375197156673161\n",
      "\n",
      "[15/30] 302번 대여소 \n",
      "Fitting 5 folds for each of 45 candidates, totalling 225 fits\n"
     ]
    },
    {
     "name": "stderr",
     "output_type": "stream",
     "text": [
      "[Parallel(n_jobs=-1)]: Using backend LokyBackend with 8 concurrent workers.\n",
      "[Parallel(n_jobs=-1)]: Done  34 tasks      | elapsed:   15.1s\n",
      "[Parallel(n_jobs=-1)]: Done 184 tasks      | elapsed:  1.3min\n",
      "[Parallel(n_jobs=-1)]: Done 225 out of 225 | elapsed:  1.7min finished\n",
      "C:\\Users\\romaa\\Anaconda3\\lib\\site-packages\\xgboost\\core.py:587: FutureWarning: Series.base is deprecated and will be removed in a future version\n",
      "  if getattr(data, 'base', None) is not None and \\\n"
     ]
    },
    {
     "name": "stdout",
     "output_type": "stream",
     "text": [
      "1.2462932410824106\n",
      "\n",
      "[16/30] 316번 대여소 \n",
      "Fitting 5 folds for each of 45 candidates, totalling 225 fits\n"
     ]
    },
    {
     "name": "stderr",
     "output_type": "stream",
     "text": [
      "[Parallel(n_jobs=-1)]: Using backend LokyBackend with 8 concurrent workers.\n",
      "[Parallel(n_jobs=-1)]: Done  34 tasks      | elapsed:   15.2s\n",
      "[Parallel(n_jobs=-1)]: Done 184 tasks      | elapsed:  1.4min\n",
      "[Parallel(n_jobs=-1)]: Done 225 out of 225 | elapsed:  1.7min finished\n",
      "C:\\Users\\romaa\\Anaconda3\\lib\\site-packages\\xgboost\\core.py:587: FutureWarning: Series.base is deprecated and will be removed in a future version\n",
      "  if getattr(data, 'base', None) is not None and \\\n"
     ]
    },
    {
     "name": "stdout",
     "output_type": "stream",
     "text": [
      "1.1727570992387164\n",
      "\n",
      "[17/30] 326번 대여소 \n",
      "Fitting 5 folds for each of 45 candidates, totalling 225 fits\n"
     ]
    },
    {
     "name": "stderr",
     "output_type": "stream",
     "text": [
      "[Parallel(n_jobs=-1)]: Using backend LokyBackend with 8 concurrent workers.\n",
      "[Parallel(n_jobs=-1)]: Done  34 tasks      | elapsed:   14.1s\n",
      "[Parallel(n_jobs=-1)]: Done 184 tasks      | elapsed:  1.3min\n",
      "[Parallel(n_jobs=-1)]: Done 225 out of 225 | elapsed:  1.7min finished\n",
      "C:\\Users\\romaa\\Anaconda3\\lib\\site-packages\\xgboost\\core.py:587: FutureWarning: Series.base is deprecated and will be removed in a future version\n",
      "  if getattr(data, 'base', None) is not None and \\\n"
     ]
    },
    {
     "name": "stdout",
     "output_type": "stream",
     "text": [
      "0.9713723244811825\n",
      "\n",
      "[18/30] 329번 대여소 \n",
      "Fitting 5 folds for each of 45 candidates, totalling 225 fits\n"
     ]
    },
    {
     "name": "stderr",
     "output_type": "stream",
     "text": [
      "[Parallel(n_jobs=-1)]: Using backend LokyBackend with 8 concurrent workers.\n",
      "[Parallel(n_jobs=-1)]: Done  34 tasks      | elapsed:   13.6s\n",
      "[Parallel(n_jobs=-1)]: Done 184 tasks      | elapsed:  1.3min\n",
      "[Parallel(n_jobs=-1)]: Done 225 out of 225 | elapsed:  1.6min finished\n",
      "C:\\Users\\romaa\\Anaconda3\\lib\\site-packages\\xgboost\\core.py:587: FutureWarning: Series.base is deprecated and will be removed in a future version\n",
      "  if getattr(data, 'base', None) is not None and \\\n"
     ]
    },
    {
     "name": "stdout",
     "output_type": "stream",
     "text": [
      "1.0002096662964157\n",
      "\n",
      "[19/30] 336번 대여소 \n",
      "Fitting 5 folds for each of 45 candidates, totalling 225 fits\n"
     ]
    },
    {
     "name": "stderr",
     "output_type": "stream",
     "text": [
      "[Parallel(n_jobs=-1)]: Using backend LokyBackend with 8 concurrent workers.\n",
      "[Parallel(n_jobs=-1)]: Done  34 tasks      | elapsed:   13.3s\n",
      "[Parallel(n_jobs=-1)]: Done 184 tasks      | elapsed:  1.3min\n",
      "[Parallel(n_jobs=-1)]: Done 225 out of 225 | elapsed:  1.6min finished\n",
      "C:\\Users\\romaa\\Anaconda3\\lib\\site-packages\\xgboost\\core.py:587: FutureWarning: Series.base is deprecated and will be removed in a future version\n",
      "  if getattr(data, 'base', None) is not None and \\\n"
     ]
    },
    {
     "name": "stdout",
     "output_type": "stream",
     "text": [
      "0.7649476634399072\n",
      "\n",
      "[20/30] 340번 대여소 \n",
      "Fitting 5 folds for each of 45 candidates, totalling 225 fits\n"
     ]
    },
    {
     "name": "stderr",
     "output_type": "stream",
     "text": [
      "[Parallel(n_jobs=-1)]: Using backend LokyBackend with 8 concurrent workers.\n",
      "[Parallel(n_jobs=-1)]: Done  34 tasks      | elapsed:   12.9s\n",
      "[Parallel(n_jobs=-1)]: Done 184 tasks      | elapsed:  1.3min\n",
      "[Parallel(n_jobs=-1)]: Done 225 out of 225 | elapsed:  1.7min finished\n",
      "C:\\Users\\romaa\\Anaconda3\\lib\\site-packages\\xgboost\\core.py:587: FutureWarning: Series.base is deprecated and will be removed in a future version\n",
      "  if getattr(data, 'base', None) is not None and \\\n"
     ]
    },
    {
     "name": "stdout",
     "output_type": "stream",
     "text": [
      "0.983423048236627\n",
      "\n",
      "[21/30] 341번 대여소 \n",
      "Fitting 5 folds for each of 45 candidates, totalling 225 fits\n"
     ]
    },
    {
     "name": "stderr",
     "output_type": "stream",
     "text": [
      "[Parallel(n_jobs=-1)]: Using backend LokyBackend with 8 concurrent workers.\n",
      "[Parallel(n_jobs=-1)]: Done  34 tasks      | elapsed:   14.9s\n",
      "[Parallel(n_jobs=-1)]: Done 184 tasks      | elapsed:  1.6min\n",
      "[Parallel(n_jobs=-1)]: Done 225 out of 225 | elapsed:  1.9min finished\n",
      "C:\\Users\\romaa\\Anaconda3\\lib\\site-packages\\xgboost\\core.py:587: FutureWarning: Series.base is deprecated and will be removed in a future version\n",
      "  if getattr(data, 'base', None) is not None and \\\n"
     ]
    },
    {
     "name": "stdout",
     "output_type": "stream",
     "text": [
      "0.9668145211398359\n",
      "\n",
      "[22/30] 342번 대여소 \n",
      "Fitting 5 folds for each of 45 candidates, totalling 225 fits\n"
     ]
    },
    {
     "name": "stderr",
     "output_type": "stream",
     "text": [
      "[Parallel(n_jobs=-1)]: Using backend LokyBackend with 8 concurrent workers.\n",
      "[Parallel(n_jobs=-1)]: Done  34 tasks      | elapsed:   15.0s\n",
      "[Parallel(n_jobs=-1)]: Done 184 tasks      | elapsed:  1.5min\n",
      "[Parallel(n_jobs=-1)]: Done 225 out of 225 | elapsed:  1.9min finished\n",
      "C:\\Users\\romaa\\Anaconda3\\lib\\site-packages\\xgboost\\core.py:587: FutureWarning: Series.base is deprecated and will be removed in a future version\n",
      "  if getattr(data, 'base', None) is not None and \\\n"
     ]
    },
    {
     "name": "stdout",
     "output_type": "stream",
     "text": [
      "1.193857259533512\n",
      "\n",
      "[23/30] 346번 대여소 \n",
      "Fitting 5 folds for each of 45 candidates, totalling 225 fits\n"
     ]
    },
    {
     "name": "stderr",
     "output_type": "stream",
     "text": [
      "[Parallel(n_jobs=-1)]: Using backend LokyBackend with 8 concurrent workers.\n",
      "[Parallel(n_jobs=-1)]: Done  34 tasks      | elapsed:   15.7s\n",
      "[Parallel(n_jobs=-1)]: Done 184 tasks      | elapsed:  1.5min\n",
      "[Parallel(n_jobs=-1)]: Done 225 out of 225 | elapsed:  2.0min finished\n",
      "C:\\Users\\romaa\\Anaconda3\\lib\\site-packages\\xgboost\\core.py:587: FutureWarning: Series.base is deprecated and will be removed in a future version\n",
      "  if getattr(data, 'base', None) is not None and \\\n"
     ]
    },
    {
     "name": "stdout",
     "output_type": "stream",
     "text": [
      "1.13919025352149\n",
      "\n",
      "[24/30] 385번 대여소 \n",
      "Fitting 5 folds for each of 45 candidates, totalling 225 fits\n"
     ]
    },
    {
     "name": "stderr",
     "output_type": "stream",
     "text": [
      "[Parallel(n_jobs=-1)]: Using backend LokyBackend with 8 concurrent workers.\n",
      "[Parallel(n_jobs=-1)]: Done  34 tasks      | elapsed:   14.7s\n",
      "[Parallel(n_jobs=-1)]: Done 184 tasks      | elapsed:  1.3min\n",
      "[Parallel(n_jobs=-1)]: Done 225 out of 225 | elapsed:  1.7min finished\n",
      "C:\\Users\\romaa\\Anaconda3\\lib\\site-packages\\xgboost\\core.py:587: FutureWarning: Series.base is deprecated and will be removed in a future version\n",
      "  if getattr(data, 'base', None) is not None and \\\n"
     ]
    },
    {
     "name": "stdout",
     "output_type": "stream",
     "text": [
      "1.0517633625465195\n",
      "\n",
      "[25/30] 501번 대여소 \n",
      "Fitting 5 folds for each of 45 candidates, totalling 225 fits\n"
     ]
    },
    {
     "name": "stderr",
     "output_type": "stream",
     "text": [
      "[Parallel(n_jobs=-1)]: Using backend LokyBackend with 8 concurrent workers.\n",
      "[Parallel(n_jobs=-1)]: Done  34 tasks      | elapsed:   17.9s\n",
      "[Parallel(n_jobs=-1)]: Done 184 tasks      | elapsed:  1.6min\n",
      "[Parallel(n_jobs=-1)]: Done 225 out of 225 | elapsed:  2.0min finished\n",
      "C:\\Users\\romaa\\Anaconda3\\lib\\site-packages\\xgboost\\core.py:587: FutureWarning: Series.base is deprecated and will be removed in a future version\n",
      "  if getattr(data, 'base', None) is not None and \\\n"
     ]
    },
    {
     "name": "stdout",
     "output_type": "stream",
     "text": [
      "1.4548242171711432\n",
      "\n",
      "[26/30] 529번 대여소 \n",
      "Fitting 5 folds for each of 45 candidates, totalling 225 fits\n"
     ]
    },
    {
     "name": "stderr",
     "output_type": "stream",
     "text": [
      "[Parallel(n_jobs=-1)]: Using backend LokyBackend with 8 concurrent workers.\n",
      "[Parallel(n_jobs=-1)]: Done  34 tasks      | elapsed:   16.8s\n",
      "[Parallel(n_jobs=-1)]: Done 184 tasks      | elapsed:  1.4min\n",
      "[Parallel(n_jobs=-1)]: Done 225 out of 225 | elapsed:  1.8min finished\n",
      "C:\\Users\\romaa\\Anaconda3\\lib\\site-packages\\xgboost\\core.py:587: FutureWarning: Series.base is deprecated and will be removed in a future version\n",
      "  if getattr(data, 'base', None) is not None and \\\n"
     ]
    },
    {
     "name": "stdout",
     "output_type": "stream",
     "text": [
      "0.8379458194916568\n",
      "\n",
      "[27/30] 540번 대여소 \n",
      "Fitting 5 folds for each of 45 candidates, totalling 225 fits\n"
     ]
    },
    {
     "name": "stderr",
     "output_type": "stream",
     "text": [
      "[Parallel(n_jobs=-1)]: Using backend LokyBackend with 8 concurrent workers.\n",
      "[Parallel(n_jobs=-1)]: Done  34 tasks      | elapsed:   18.3s\n",
      "[Parallel(n_jobs=-1)]: Done 184 tasks      | elapsed:  1.6min\n",
      "[Parallel(n_jobs=-1)]: Done 225 out of 225 | elapsed:  2.0min finished\n",
      "C:\\Users\\romaa\\Anaconda3\\lib\\site-packages\\xgboost\\core.py:587: FutureWarning: Series.base is deprecated and will be removed in a future version\n",
      "  if getattr(data, 'base', None) is not None and \\\n"
     ]
    },
    {
     "name": "stdout",
     "output_type": "stream",
     "text": [
      "1.3316103587971955\n",
      "\n",
      "[28/30] 568번 대여소 \n",
      "Fitting 5 folds for each of 45 candidates, totalling 225 fits\n"
     ]
    },
    {
     "name": "stderr",
     "output_type": "stream",
     "text": [
      "[Parallel(n_jobs=-1)]: Using backend LokyBackend with 8 concurrent workers.\n",
      "[Parallel(n_jobs=-1)]: Done  34 tasks      | elapsed:   12.7s\n",
      "[Parallel(n_jobs=-1)]: Done 184 tasks      | elapsed:  1.3min\n",
      "[Parallel(n_jobs=-1)]: Done 225 out of 225 | elapsed:  1.7min finished\n",
      "C:\\Users\\romaa\\Anaconda3\\lib\\site-packages\\xgboost\\core.py:587: FutureWarning: Series.base is deprecated and will be removed in a future version\n",
      "  if getattr(data, 'base', None) is not None and \\\n"
     ]
    },
    {
     "name": "stdout",
     "output_type": "stream",
     "text": [
      "1.1635131553057734\n",
      "\n",
      "[29/30] 639번 대여소 \n",
      "Fitting 5 folds for each of 45 candidates, totalling 225 fits\n"
     ]
    },
    {
     "name": "stderr",
     "output_type": "stream",
     "text": [
      "[Parallel(n_jobs=-1)]: Using backend LokyBackend with 8 concurrent workers.\n",
      "[Parallel(n_jobs=-1)]: Done  34 tasks      | elapsed:   14.6s\n",
      "[Parallel(n_jobs=-1)]: Done 184 tasks      | elapsed:  1.4min\n",
      "[Parallel(n_jobs=-1)]: Done 225 out of 225 | elapsed:  1.8min finished\n",
      "C:\\Users\\romaa\\Anaconda3\\lib\\site-packages\\xgboost\\core.py:587: FutureWarning: Series.base is deprecated and will be removed in a future version\n",
      "  if getattr(data, 'base', None) is not None and \\\n"
     ]
    },
    {
     "name": "stdout",
     "output_type": "stream",
     "text": [
      "0.9143359707441272\n",
      "\n",
      "[30/30] 907번 대여소 \n",
      "Fitting 5 folds for each of 45 candidates, totalling 225 fits\n"
     ]
    },
    {
     "name": "stderr",
     "output_type": "stream",
     "text": [
      "[Parallel(n_jobs=-1)]: Using backend LokyBackend with 8 concurrent workers.\n",
      "[Parallel(n_jobs=-1)]: Done  34 tasks      | elapsed:   12.2s\n",
      "[Parallel(n_jobs=-1)]: Done 184 tasks      | elapsed:  1.3min\n",
      "[Parallel(n_jobs=-1)]: Done 225 out of 225 | elapsed:  1.7min finished\n",
      "C:\\Users\\romaa\\Anaconda3\\lib\\site-packages\\xgboost\\core.py:587: FutureWarning: Series.base is deprecated and will be removed in a future version\n",
      "  if getattr(data, 'base', None) is not None and \\\n"
     ]
    },
    {
     "name": "stdout",
     "output_type": "stream",
     "text": [
      "1.4562604526300136\n"
     ]
    },
    {
     "data": {
      "text/plain": [
       "1.163379566062262"
      ]
     },
     "execution_count": 2,
     "metadata": {},
     "output_type": "execute_result"
    }
   ],
   "source": [
    "import xgboost as xgb\n",
    "\n",
    "features = ['년',\n",
    "           '월', \n",
    "           '시', \n",
    "           '기온(°C)',\n",
    "           '강수량(mm)', \n",
    "           '풍속(m/s)', \n",
    "           '습도(%)', \n",
    "           '적설(cm)',\n",
    "           '요일_0', \n",
    "           '요일_1', \n",
    "           '요일_2', \n",
    "           '요일_3',\n",
    "           '요일_4', \n",
    "           '요일_5', \n",
    "           '요일_6',]\n",
    "n = 3\n",
    "results = {} \n",
    "total = t['대여장소'].nunique()  # 서로다른 대기소 갯수 30개\n",
    "# print(total)  # 10\n",
    "\n",
    "for idx, (name, _df) in enumerate(t.groupby('대여장소'), 1):\n",
    "    print()\n",
    "    print(\"[%d/%d] %d번 대여소\" %(idx, total, name), end=' ')  #name은 대여소 코드.\n",
    "    print()\n",
    "  \n",
    "    x_train, x_test, y_train, y_test = train_test_split(_df[features], _df['빈도수'], test_size=0.2, random_state=15) \n",
    "    \n",
    "    param_grid = { \n",
    "        \"gamma\": uniform(0, 0.5).rvs(n), \n",
    "        \"max_depth\": range(2, 7), # default 3 \n",
    "        \"n_estimators\": randint(100, 150).rvs(n), # default 100 \n",
    "    } \n",
    "        \n",
    "        \n",
    "    grid = GridSearchCV(xgb.XGBRegressor(objective='reg:squarederror'), cv=5, n_jobs=-1, param_grid=param_grid, verbose=1) \n",
    "        \n",
    "    grid = grid.fit(x_train, y_train) \n",
    "        \n",
    "\n",
    "        \n",
    "    model = grid.best_estimator_ \n",
    "    predictions = model.predict(x_test) \n",
    "    mae = mean_absolute_error(y_test, predictions) \n",
    "        \n",
    "    model.save_model(\"data/model/수요\" + str(int(name)) + \".model\")\n",
    "        \n",
    "#     for i in range(0, 20):\n",
    "#         print('>predicted=' +str(predictions[i]) + ', actual=' + str(y_test.values[i]))\n",
    "            \n",
    "            \n",
    "    results[name] = {} \n",
    "    results[name]['model'] = model  #best_estimator 저장\n",
    "    results[name]['mae'] = mae \n",
    "    print(mae)\n",
    "    results[name]['errors'] = predictions - y_test  \n",
    "      \n",
    "        \n",
    "errors = np.array([result['mae'] for result in results.values()]) \n",
    "errors.mean()"
   ]
  },
  {
   "cell_type": "code",
   "execution_count": null,
   "metadata": {},
   "outputs": [],
   "source": []
  }
 ],
 "metadata": {
  "kernelspec": {
   "display_name": "Python 3",
   "language": "python",
   "name": "python3"
  },
  "language_info": {
   "codemirror_mode": {
    "name": "ipython",
    "version": 3
   },
   "file_extension": ".py",
   "mimetype": "text/x-python",
   "name": "python",
   "nbconvert_exporter": "python",
   "pygments_lexer": "ipython3",
   "version": "3.7.1"
  }
 },
 "nbformat": 4,
 "nbformat_minor": 2
}
